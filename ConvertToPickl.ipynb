{
 "cells": [
  {
   "cell_type": "code",
   "execution_count": 1,
   "metadata": {
    "collapsed": false
   },
   "outputs": [
    {
     "name": "stderr",
     "output_type": "stream",
     "text": [
      "Using gpu device 0: GeForce GTX 965M (CNMeM is disabled, CuDNN not available)\n"
     ]
    },
    {
     "name": "stdout",
     "output_type": "stream",
     "text": [
      "(2224L,)\n",
      "(2224L, 100L)\n",
      "This dataset has 2224L samples of length 100L. The number of training examples is 1556\n"
     ]
    }
   ],
   "source": [
    "    import numpy as np\n",
    "    import csv\n",
    "    import gzip, cPickle\n",
    "    from numpy import genfromtxt\n",
    "    import theano\n",
    "    import theano.tensor as T\n",
    "\n",
    "    #Open csv file and read in data\n",
    "    csvFile = \"D:\\_Active_Projects\\yelp\\yelp\\data\\word2vec_model\\word2vec_feature_matrix_0_1Percent.csv\"\n",
    "    my_data = genfromtxt(csvFile, delimiter=',',skip_header=1)\n",
    "    data_shape = \"There are \" + repr(my_data.shape[0]) + \" samples of vector length \" + repr(my_data.shape[1])\n",
    "\n",
    "    num_rows = my_data.shape[0] # Number of data samples\n",
    "    num_cols = my_data.shape[1] # Length of Data Vector\n",
    "\n",
    "    total_size = (num_cols-1) * num_rows\n",
    "\n",
    "\n",
    "    data = np.arange(total_size)\n",
    "    data = data.reshape(num_rows, num_cols-1) # 2D Matrix of data points\n",
    "    data = data.astype('float32')\n",
    "\n",
    "    label = np.arange(num_rows)\n",
    "    print label.shape\n",
    "    #label = label.reshape(num_rows, 1) # 2D Matrix of data points\n",
    "    label = label.astype('float32')\n",
    "\n",
    "    print data.shape\n",
    "\n",
    "    #Read through data file, assume label is in last col\n",
    "    for i in range(my_data.shape[0]):\n",
    "        label[i] = my_data[i][num_cols-1]\n",
    "\n",
    "        for j in range(num_cols-1):\n",
    "            data[i][j] = my_data[i][j]\n",
    "\n",
    "\n",
    "    #Split data in terms of 70% train, 10% val, 20% test\n",
    "\n",
    "    train_num = int(num_rows * 0.7)\n",
    "    val_num = int(num_rows * 0.1)\n",
    "    test_num = int(num_rows * 0.2)\n",
    "\n",
    "    DataSetState = \"This dataset has \" + repr(data.shape[0]) + \" samples of length \" + repr(data.shape[1]) + \". The number of training examples is \" + repr(train_num)\n",
    "    print DataSetState\n",
    "\n",
    "\n",
    "\n",
    "    train_set_x = data[:train_num]\n",
    "    train_set_y = label[:train_num]\n",
    "\n",
    "    val_set_x = data[train_num+1:train_num+val_num]\n",
    "    val_set_y = label[train_num+1:train_num+val_num]\n",
    "\n",
    "    test_set_x = data[train_num+val_num+1:]\n",
    "    test_set_y = label[train_num+val_num+1:]\n",
    "\n",
    "\n",
    "    # Divided dataset into 3 parts. split by percentage.\n",
    "\n",
    "    train_set = train_set_x, train_set_y\n",
    "    val_set = val_set_x, val_set_y\n",
    "    test_set = test_set_x, val_set_y\n",
    "\n",
    "\n",
    "    dataset = [train_set, val_set, test_set]\n",
    "\n",
    "    f = gzip.open(csvFile+'.pkl.gz','wb')\n",
    "    cPickle.dump(dataset, f, protocol=2)\n",
    "    f.close()"
   ]
  }
 ],
 "metadata": {
  "kernelspec": {
   "display_name": "Python 2",
   "language": "python",
   "name": "python2"
  },
  "language_info": {
   "codemirror_mode": {
    "name": "ipython",
    "version": 2
   },
   "file_extension": ".py",
   "mimetype": "text/x-python",
   "name": "python",
   "nbconvert_exporter": "python",
   "pygments_lexer": "ipython2",
   "version": "2.7.11"
  }
 },
 "nbformat": 4,
 "nbformat_minor": 0
}
