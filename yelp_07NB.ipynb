{
 "cells": [
  {
   "cell_type": "code",
   "execution_count": 2,
   "metadata": {
    "collapsed": true
   },
   "outputs": [],
   "source": [
    "import os\n",
    "import numpy as np\n",
    "import pandas as pd\n",
    "from utils import load_sparse_csr"
   ]
  },
  {
   "cell_type": "code",
   "execution_count": 3,
   "metadata": {
    "collapsed": false
   },
   "outputs": [],
   "source": [
    "from sklearn.cross_validation import KFold\n",
    "from sklearn import metrics\n",
    "from scipy.sparse import csr_matrix\n",
    "from sklearn.naive_bayes import *\n",
    "from sklearn import preprocessing\n",
    "from sklearn.preprocessing import *"
   ]
  },
  {
   "cell_type": "code",
   "execution_count": 4,
   "metadata": {
    "collapsed": true
   },
   "outputs": [],
   "source": [
    "SEED_VAL = 200;\n",
    "WORK_DIR = os.getcwd();\n",
    "data_subset = \"_10Percent\"\n",
    "YELP_DATA_CSV_DIR = os.path.join(WORK_DIR, \"data\", \"csv\")\n",
    "YELP_DATA_SPARSE_MATRIX_DIR = os.path.join(WORK_DIR, \"data\", \"sparse_matrix\")\n",
    "YELP_DATA_SPARSE_MATRIX_DIR_FEAT_ADD = os.path.join(WORK_DIR, \"data\", \"sparse_matrix_feat_add\")\n",
    "YELP_DATA_WORD_2_VEC_MODEL_DIR = os.path.join(WORK_DIR, \"data\", \"word2vec_model\")\n",
    "YELP_DATA_WORD_2_VEC_MODEL_DIR_FEAT_ADD = os.path.join(WORK_DIR, \"data\", \"word2vec_model_feat_add\")"
   ]
  },
  {
   "cell_type": "code",
   "execution_count": 5,
   "metadata": {
    "collapsed": false
   },
   "outputs": [
    {
     "name": "stderr",
     "output_type": "stream",
     "text": [
      "C:\\Anaconda\\lib\\site-packages\\pandas\\io\\parsers.py:1170: DtypeWarning: Columns (5,9) have mixed types. Specify dtype option on import or set low_memory=False.\n",
      "  data = self._reader.read(nrows)\n"
     ]
    }
   ],
   "source": [
    "# Read data\n",
    "read_filename = os.path.join(YELP_DATA_CSV_DIR, 'business_review_user' + data_subset + \".csv\")\n",
    "df_data = pd.read_csv(read_filename, engine='c', encoding='utf-8')"
   ]
  },
  {
   "cell_type": "code",
   "execution_count": 6,
   "metadata": {
    "collapsed": false
   },
   "outputs": [],
   "source": [
    "def myNB(bow_feature_matrix_train, y_train, bow_feature_matrix_test, y_test):\n",
    "    bernoulli_nb_classifier = BernoulliNB()\n",
    "    \n",
    "#     print np.isnan(bow_feature_matrix_train)\n",
    "#     print np.isnan(y_train)\n",
    "#     print np.isfinite(bow_feature_matrix_train)\n",
    "#     print np.isfinite(y_train)\n",
    "\n",
    "    bernoulli_nb_classifier.fit((bow_feature_matrix_train), y_train)\n",
    "    \n",
    "    bernoulli_nb_prediction = bernoulli_nb_classifier.predict(bow_feature_matrix_train)\n",
    "    train_accuracy = metrics.accuracy_score(y_train, bernoulli_nb_prediction)\n",
    "    \n",
    "    bernoulli_nb_prediction2 = bernoulli_nb_classifier.predict(bow_feature_matrix_test)\n",
    "    test_accuracy = metrics.accuracy_score(y_test, bernoulli_nb_prediction2)\n",
    "                           \n",
    "    return [train_accuracy, test_accuracy]\n",
    "\n",
    "def myKFoldNB(X, y, n_fold):\n",
    "    res_nb_train = []\n",
    "    res_nb_test = []\n",
    "    \n",
    "    res_nb_train_avg = 0.0\n",
    "    res_nb_test_avg = 0.0\n",
    "    \n",
    "    res_nb = []\n",
    "    \n",
    "    kf = KFold(X.shape[0], n_folds=n_fold)\n",
    "    \n",
    "    for train_index, test_index in kf:\n",
    "        X_train, X_test = X[train_index], X[test_index]\n",
    "        y_train, y_test = y[train_index], y[test_index]\n",
    "        \n",
    "        res_nb = myNB(X_train, y_train, X_test, y_test)\n",
    "        res_nb_train_avg = res_nb_train_avg + float(res_nb[0])\n",
    "        res_nb_test_avg = res_nb_test_avg + float(res_nb[1])\n",
    "        \n",
    "        res_nb_train.append(res_nb[0])\n",
    "        res_nb_test.append(res_nb[1])\n",
    "        \n",
    "    res_nb_train_avg = res_nb_train_avg / n_fold\n",
    "    res_nb_test_avg = res_nb_test_avg / n_fold\n",
    "    \n",
    "    print \"NB training data accuracy: \" + str(res_nb_train)\n",
    "    print \"NB training data average accuracy: \" + str(res_nb_train_avg)\n",
    "    print \"NB test data accuracy:\" + str(res_nb_test)\n",
    "    print \"NB test data average accuracy: \" + str(res_nb_test_avg)\n",
    "\n",
    "y = np.array(df_data.review_stars.copy(), dtype='int64')"
   ]
  },
  {
   "cell_type": "markdown",
   "metadata": {},
   "source": [
    "# Bag of Words"
   ]
  },
  {
   "cell_type": "code",
   "execution_count": 7,
   "metadata": {
    "collapsed": false
   },
   "outputs": [],
   "source": [
    "spare_matrix_file = os.path.join(YELP_DATA_SPARSE_MATRIX_DIR, \"bagWords\" + data_subset)\n",
    "feature_matrix_bag_of_words = load_sparse_csr(spare_matrix_file + \".npz\")"
   ]
  },
  {
   "cell_type": "code",
   "execution_count": 25,
   "metadata": {
    "collapsed": false
   },
   "outputs": [
    {
     "name": "stdout",
     "output_type": "stream",
     "text": [
      "NB training data accuracy: [0.49455617119274004, 0.49375812299062866, 0.49432245707640743, 0.49367261782611671, 0.49524591285313635]\n",
      "NB training data average accuracy: 0.494311056388\n",
      "NB test data accuracy:[0.48883872585904187, 0.49508630321271407, 0.49018400711402971, 0.49273776136078618, 0.49150648699181432]\n",
      "NB test data average accuracy: 0.491670656908\n"
     ]
    }
   ],
   "source": [
    "myKFoldNB(feature_matrix_bag_of_words, y, 5)"
   ]
  },
  {
   "cell_type": "markdown",
   "metadata": {
    "collapsed": true
   },
   "source": [
    "# Bag of Words + Hand crafted Features"
   ]
  },
  {
   "cell_type": "code",
   "execution_count": 26,
   "metadata": {
    "collapsed": false,
    "scrolled": true
   },
   "outputs": [],
   "source": [
    "spare_matrix_file = os.path.join(YELP_DATA_SPARSE_MATRIX_DIR_FEAT_ADD, \"bagWords_feat_add\" + data_subset)\n",
    "feature_matrix_bag_of_words_and_hand_craft_features = load_sparse_csr(spare_matrix_file + \".npz\")"
   ]
  },
  {
   "cell_type": "code",
   "execution_count": 27,
   "metadata": {
    "collapsed": false
   },
   "outputs": [
    {
     "name": "stdout",
     "output_type": "stream",
     "text": [
      "NB training data accuracy: [0.55658731787399962, 0.55600588275531837, 0.55513943042159741, 0.55567526278587231, 0.556296600314659]\n",
      "NB training data average accuracy: 0.55594089883\n",
      "NB test data accuracy:[0.5078778758236997, 0.51510591239710879, 0.51145769204459945, 0.51104726725494221, 0.51216453473789814]\n",
      "NB test data average accuracy: 0.511530656452\n"
     ]
    }
   ],
   "source": [
    "myKFoldNB(feature_matrix_bag_of_words_and_hand_craft_features, y, 5)"
   ]
  },
  {
   "cell_type": "markdown",
   "metadata": {},
   "source": [
    "# Word embedding"
   ]
  },
  {
   "cell_type": "code",
   "execution_count": 10,
   "metadata": {
    "collapsed": false
   },
   "outputs": [],
   "source": [
    "word2vec_feature_matrix_file = os.path.join(YELP_DATA_WORD_2_VEC_MODEL_DIR, \"word2vec_feature_matrix\" + data_subset+ \".csv\")\n",
    "feature_matrix_word2vec = np.genfromtxt(word2vec_feature_matrix_file, delimiter=',')  "
   ]
  },
  {
   "cell_type": "code",
   "execution_count": 11,
   "metadata": {
    "collapsed": false
   },
   "outputs": [
    {
     "name": "stdout",
     "output_type": "stream",
     "text": [
      "NB training data accuracy: [0.40869758533415418, 0.40598422144697538, 0.40733520304626397, 0.40671386551747724, 0.40672526620607885]\n",
      "NB training data average accuracy: 0.40709122831\n",
      "NB test data accuracy:[0.40066580021433296, 0.4115192557630481, 0.40611532936589367, 0.40860067948104067, 0.40855507672663427]\n",
      "NB test data average accuracy: 0.40709122831\n"
     ]
    }
   ],
   "source": [
    "myKFoldNB(np.array(feature_matrix_word2vec,dtype = 'int64'), y, 5)"
   ]
  },
  {
   "cell_type": "markdown",
   "metadata": {},
   "source": [
    "# Word 2 Vec + Hand crafted Features"
   ]
  },
  {
   "cell_type": "code",
   "execution_count": 12,
   "metadata": {
    "collapsed": false
   },
   "outputs": [],
   "source": [
    "word2vec_feature_matrix_file = os.path.join(YELP_DATA_WORD_2_VEC_MODEL_DIR_FEAT_ADD, \"word2vec_add_feature_matrix\" + data_subset+ \".csv\")\n",
    "feature_matrix_word2vec_and_hand_craft_features = np.genfromtxt(word2vec_feature_matrix_file, delimiter=',')  "
   ]
  },
  {
   "cell_type": "code",
   "execution_count": 13,
   "metadata": {
    "collapsed": false
   },
   "outputs": [
    {
     "name": "stdout",
     "output_type": "stream",
     "text": [
      "NB training data accuracy: [0.46638506965820736, 0.46470916843377341, 0.46572953006361584, 0.46520509838794261, 0.46608295141026518]\n",
      "NB training data average accuracy: 0.465622363591\n",
      "NB test data accuracy:[0.462571539320975, 0.4692751442187108, 0.46519369769934105, 0.46729142440203386, 0.46378001231274368]\n",
      "NB test data average accuracy: 0.465622363591\n"
     ]
    }
   ],
   "source": [
    "myKFoldNB(np.array(feature_matrix_word2vec_and_hand_craft_features, dtype = 'int64'), y, 5)"
   ]
  },
  {
   "cell_type": "markdown",
   "metadata": {
    "collapsed": true
   },
   "source": [
    "# Hand crafted features"
   ]
  },
  {
   "cell_type": "code",
   "execution_count": 14,
   "metadata": {
    "collapsed": true
   },
   "outputs": [],
   "source": [
    "feature_matrix_hand_craft_features = feature_matrix_word2vec_and_hand_craft_features[:,100:104]"
   ]
  },
  {
   "cell_type": "code",
   "execution_count": 15,
   "metadata": {
    "collapsed": false
   },
   "outputs": [
    {
     "name": "stdout",
     "output_type": "stream",
     "text": [
      "NB training data accuracy: [0.46638506965820736, 0.46470916843377341, 0.46572953006361584, 0.46520509838794261, 0.46608295141026518]\n",
      "NB training data average accuracy: 0.465622363591\n",
      "NB test data accuracy:[0.462571539320975, 0.4692751442187108, 0.46519369769934105, 0.46729142440203386, 0.46378001231274368]\n",
      "NB test data average accuracy: 0.465622363591\n"
     ]
    }
   ],
   "source": [
    "myKFoldNB(feature_matrix_hand_craft_features, y, 5)"
   ]
  },
  {
   "cell_type": "code",
   "execution_count": null,
   "metadata": {
    "collapsed": true
   },
   "outputs": [],
   "source": []
  },
  {
   "cell_type": "code",
   "execution_count": null,
   "metadata": {
    "collapsed": true
   },
   "outputs": [],
   "source": []
  }
 ],
 "metadata": {
  "kernelspec": {
   "display_name": "Python 2",
   "language": "python",
   "name": "python2"
  },
  "language_info": {
   "codemirror_mode": {
    "name": "ipython",
    "version": 2
   },
   "file_extension": ".py",
   "mimetype": "text/x-python",
   "name": "python",
   "nbconvert_exporter": "python",
   "pygments_lexer": "ipython2",
   "version": "2.7.11"
  }
 },
 "nbformat": 4,
 "nbformat_minor": 0
}
